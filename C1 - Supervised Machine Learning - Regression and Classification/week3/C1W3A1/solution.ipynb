{
 "cells": [
  {
   "cell_type": "code",
   "execution_count": null,
   "id": "1a616a7a",
   "metadata": {},
   "outputs": [],
   "source": [
    "import math\n",
    "import numpy as np\n",
    "import matplotlib.pyplot as plt\n",
    "from utils import *"
   ]
  },
  {
   "cell_type": "code",
   "execution_count": null,
   "id": "1b02ec11",
   "metadata": {},
   "outputs": [],
   "source": [
    "x, y = load_data(\"data/ex2data1.txt\")\n",
    "m, n = x.shape"
   ]
  },
  {
   "attachments": {},
   "cell_type": "markdown",
   "id": "d5605e61",
   "metadata": {},
   "source": [
    "## Logistic Regression"
   ]
  },
  {
   "attachments": {},
   "cell_type": "markdown",
   "id": "09d31bb1",
   "metadata": {},
   "source": [
    "Visualising data"
   ]
  },
  {
   "cell_type": "code",
   "execution_count": null,
   "id": "40bed609",
   "metadata": {},
   "outputs": [],
   "source": [
    "plot_data(x, y)"
   ]
  },
  {
   "attachments": {},
   "cell_type": "markdown",
   "id": "aa6ad376",
   "metadata": {},
   "source": [
    "Functions"
   ]
  },
  {
   "cell_type": "code",
   "execution_count": null,
   "id": "d462730c",
   "metadata": {},
   "outputs": [],
   "source": [
    "def sigmoid(z):\n",
    "    return 1/(1+np.exp(-z))"
   ]
  },
  {
   "cell_type": "code",
   "execution_count": null,
   "id": "8222c5c0",
   "metadata": {},
   "outputs": [],
   "source": [
    "def f(x, w, b):\n",
    "    return sigmoid(np.dot(x, w) + b)"
   ]
  },
  {
   "cell_type": "code",
   "execution_count": null,
   "id": "7365d632",
   "metadata": {},
   "outputs": [],
   "source": [
    "def compute_cost(x, y, w, b, lambda_=0):\n",
    "    m = x.shape[0]\n",
    "    return -((1/(m)) * np.sum(np.dot(y, np.log(f(x, w, b))) + np.dot((1 - y), np.log(1 - f(x, w, b)))))"
   ]
  },
  {
   "cell_type": "code",
   "execution_count": null,
   "id": "7f968060",
   "metadata": {},
   "outputs": [],
   "source": [
    "def compute_gradient(x, y, w, b, lambda_=0):\n",
    "    m = x.shape[0]\n",
    "    dj_dw = (1/m) * np.dot(f(x, w, b) - y, x)\n",
    "    dj_db = (1/m) * np.sum(f(x, w, b) - y)\n",
    "    return dj_db, dj_dw"
   ]
  },
  {
   "cell_type": "code",
   "execution_count": null,
   "id": "bcd83176",
   "metadata": {},
   "outputs": [],
   "source": [
    "def gradient_descent(x, y, w, b, cost_fn, gradient_fn, alpha, iter, lambda_=0):\n",
    "    for i in range(iter):\n",
    "        dj_db, dj_dw = gradient_fn(x, y, w, b, lambda_)\n",
    "        w = w - alpha * dj_dw\n",
    "        b = b - alpha * dj_db\n",
    "        cost = cost_fn(x, y, w, b, lambda_)\n",
    "        if (i % 1000 == 0 or i == iter - 1) and i != 0:\n",
    "            print(\"Iterations: {} Cost: {:.2}\".format(i, cost))\n",
    "    \n",
    "    return cost, w, b\n"
   ]
  },
  {
   "cell_type": "code",
   "execution_count": null,
   "id": "f13c4e89",
   "metadata": {},
   "outputs": [],
   "source": [
    "def predict(x, w, b):\n",
    "    p = np.where(\n",
    "        f(x, w, b) > 0.5, 1, 0\n",
    "    )\n",
    "    return p"
   ]
  },
  {
   "cell_type": "code",
   "execution_count": null,
   "id": "5d498e94",
   "metadata": {},
   "outputs": [],
   "source": [
    "def accuracy(x, y, w, b):\n",
    "    p = predict(x, w,b)\n",
    "    return 'Train Accuracy: %f'%(np.mean(p == y) * 100)"
   ]
  },
  {
   "attachments": {},
   "cell_type": "markdown",
   "id": "71f0da7a",
   "metadata": {},
   "source": [
    "Tests"
   ]
  },
  {
   "cell_type": "code",
   "execution_count": null,
   "id": "1b5986fd",
   "metadata": {},
   "outputs": [],
   "source": [
    "# UNIT TESTS    \n",
    "from public_tests import *\n",
    "print(\"Tests for sigmoid calculation: \")\n",
    "sigmoid_test(sigmoid)\n",
    "print(\"Tests for cost calculation: \")\n",
    "compute_cost_test(compute_cost)\n",
    "print(\"Tests for gradient calculation: \")\n",
    "compute_gradient_test(compute_gradient)\n",
    "print(\"Test for predict: \")\n",
    "predict_test(predict)"
   ]
  },
  {
   "attachments": {},
   "cell_type": "markdown",
   "id": "c6e90b40",
   "metadata": {},
   "source": [
    "Running gradient descent"
   ]
  },
  {
   "cell_type": "code",
   "execution_count": null,
   "id": "13d591ec",
   "metadata": {},
   "outputs": [],
   "source": [
    "np.random.seed(1)\n",
    "w = np.array([-0.00082978, 0.00220324])\n",
    "b = -8\n",
    "alpha = 1e-3\n",
    "iter = 10000\n",
    "j = gradient_descent(x, y, w, b, compute_cost, compute_gradient, alpha, iter)\n",
    "cost, w, b = j"
   ]
  },
  {
   "attachments": {},
   "cell_type": "markdown",
   "id": "8f79c485",
   "metadata": {},
   "source": [
    "Ploting results"
   ]
  },
  {
   "cell_type": "code",
   "execution_count": null,
   "id": "b1a3fe87",
   "metadata": {},
   "outputs": [],
   "source": [
    "plot_decision_boundary(w, b, x, y)"
   ]
  },
  {
   "attachments": {},
   "cell_type": "markdown",
   "id": "7c6763de",
   "metadata": {},
   "source": [
    "Prediction Accuracy"
   ]
  },
  {
   "cell_type": "code",
   "execution_count": null,
   "id": "d3f4c922",
   "metadata": {},
   "outputs": [],
   "source": []
  },
  {
   "attachments": {},
   "cell_type": "markdown",
   "id": "59151053",
   "metadata": {},
   "source": [
    "## Regularised Logistic Regression"
   ]
  },
  {
   "cell_type": "code",
   "execution_count": null,
   "id": "6a6d37b4",
   "metadata": {},
   "outputs": [],
   "source": [
    "x, y = load_data(\"data/ex2data2.txt\")"
   ]
  },
  {
   "cell_type": "code",
   "execution_count": null,
   "id": "eedad27b",
   "metadata": {},
   "outputs": [],
   "source": [
    "plot_data(x, y)"
   ]
  },
  {
   "cell_type": "code",
   "execution_count": null,
   "id": "deae7821",
   "metadata": {},
   "outputs": [],
   "source": [
    "def map_features(x1, x2):\n",
    "    x1 = np.atleast_1d(x1)\n",
    "    x2 = np.atleast_1d(x2)\n",
    "    degree = 6\n",
    "    out = []\n",
    "    for i in range(1, degree+1):\n",
    "        for j in range(i+1):\n",
    "            out.append(x1**(i-j) * x2**j)\n",
    "    return np.stack(out, axis=1)"
   ]
  },
  {
   "cell_type": "code",
   "execution_count": null,
   "id": "be7a36fc",
   "metadata": {},
   "outputs": [],
   "source": [
    "x = map_features(x[:, 0], x[:, 1])\n",
    "m, n = x.shape"
   ]
  },
  {
   "cell_type": "code",
   "execution_count": null,
   "id": "91fda9fb",
   "metadata": {},
   "outputs": [],
   "source": [
    "def compute_cost_reg(x, y, w, b, lambda_):\n",
    "    m = x.shape[0]\n",
    "    return compute_cost(x, y, w, b) + (lambda_/(2 * m)) * np.sum(np.square(w))"
   ]
  },
  {
   "cell_type": "code",
   "execution_count": null,
   "id": "5aeef041",
   "metadata": {},
   "outputs": [],
   "source": [
    "def compute_gradient_reg(x, y , w, b, lambda_):\n",
    "    m = x.shape[0]\n",
    "    return compute_gradient(x, y, w, b)[0], compute_gradient(x, y, w, b)[1] + (lambda_/m) * w"
   ]
  },
  {
   "cell_type": "code",
   "execution_count": null,
   "id": "cc28bef4",
   "metadata": {},
   "outputs": [],
   "source": [
    "np.random.seed(1)\n",
    "w = w  = np.random.rand(x.shape[1]) - 0.5 \n",
    "b = 1.\n",
    "# Set regularization parameter lambda_ to 1 (you can try varying this)\n",
    "lambda_ = 0.01\n",
    "# Some gradient descent settings\n",
    "iter = 10000\n",
    "alpha = 0.01\n",
    "cost, w_, b_ = gradient_descent(x, y, w, b, compute_cost_reg, compute_gradient_reg, alpha, iter, lambda_)"
   ]
  },
  {
   "cell_type": "code",
   "execution_count": null,
   "id": "af854aaf",
   "metadata": {},
   "outputs": [],
   "source": [
    "plot_decision_boundary(w_, b_, x, y)"
   ]
  },
  {
   "cell_type": "code",
   "execution_count": null,
   "id": "96adda8e",
   "metadata": {},
   "outputs": [],
   "source": [
    "compute_gradient_reg_test(compute_gradient_reg)\n",
    "compute_cost_reg_test(compute_cost_reg)"
   ]
  },
  {
   "cell_type": "code",
   "execution_count": null,
   "id": "db1eaa82",
   "metadata": {},
   "outputs": [],
   "source": [
    "print(accuracy(x, y, w_, b_))"
   ]
  }
 ],
 "metadata": {
  "kernelspec": {
   "display_name": "Python 3 (ipykernel)",
   "language": "python",
   "name": "python3"
  }
 },
 "nbformat": 4,
 "nbformat_minor": 5
}
